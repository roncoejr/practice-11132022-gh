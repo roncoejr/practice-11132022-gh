{
 "cells": [
  {
   "cell_type": "code",
   "execution_count": 1,
   "metadata": {},
   "outputs": [],
   "source": [
    "import pandas as pd\n",
    "import numpy as np\n",
    "import matplotlib\n",
    "import matplotlib.pyplot as plt"
   ]
  },
  {
   "cell_type": "code",
   "execution_count": 6,
   "metadata": {},
   "outputs": [],
   "source": [
    "df_gas = pd.read_csv('data/gasbillhistory.csv', header=None)"
   ]
  },
  {
   "cell_type": "code",
   "execution_count": 7,
   "metadata": {},
   "outputs": [
    {
     "data": {
      "text/plain": [
       "(76, 3)"
      ]
     },
     "execution_count": 7,
     "metadata": {},
     "output_type": "execute_result"
    }
   ],
   "source": [
    "df_gas.shape"
   ]
  },
  {
   "cell_type": "code",
   "execution_count": 21,
   "metadata": {},
   "outputs": [
    {
     "name": "stdout",
     "output_type": "stream",
     "text": [
      "<class 'pandas.core.frame.DataFrame'>\n",
      "RangeIndex: 76 entries, 0 to 75\n",
      "Data columns (total 5 columns):\n",
      " #   Column             Non-Null Count  Dtype         \n",
      "---  ------             --------------  -----         \n",
      " 0   transactionDate    76 non-null     datetime64[ns]\n",
      " 1   transactionAmount  76 non-null     float64       \n",
      " 2   transactionStatus  76 non-null     object        \n",
      " 3   transactionMonth   76 non-null     int64         \n",
      " 4   transactionYear    76 non-null     int64         \n",
      "dtypes: datetime64[ns](1), float64(1), int64(2), object(1)\n",
      "memory usage: 3.1+ KB\n"
     ]
    }
   ],
   "source": [
    "df_gas.info()"
   ]
  },
  {
   "cell_type": "code",
   "execution_count": 11,
   "metadata": {},
   "outputs": [],
   "source": [
    "df_gas.rename(columns={0: 'transactionDate', 1: 'transactionAmount', 2: 'transactionStatus'}, inplace=True)"
   ]
  },
  {
   "cell_type": "code",
   "execution_count": 13,
   "metadata": {},
   "outputs": [],
   "source": [
    "df_gas['transactionDate'] = pd.to_datetime(df_gas['transactionDate'])"
   ]
  },
  {
   "cell_type": "code",
   "execution_count": 22,
   "metadata": {},
   "outputs": [
    {
     "data": {
      "text/html": [
       "<div>\n",
       "<style scoped>\n",
       "    .dataframe tbody tr th:only-of-type {\n",
       "        vertical-align: middle;\n",
       "    }\n",
       "\n",
       "    .dataframe tbody tr th {\n",
       "        vertical-align: top;\n",
       "    }\n",
       "\n",
       "    .dataframe thead th {\n",
       "        text-align: right;\n",
       "    }\n",
       "</style>\n",
       "<table border=\"1\" class=\"dataframe\">\n",
       "  <thead>\n",
       "    <tr style=\"text-align: right;\">\n",
       "      <th></th>\n",
       "      <th>transactionDate</th>\n",
       "      <th>transactionAmount</th>\n",
       "      <th>transactionStatus</th>\n",
       "      <th>transactionMonth</th>\n",
       "      <th>transactionYear</th>\n",
       "    </tr>\n",
       "  </thead>\n",
       "  <tbody>\n",
       "    <tr>\n",
       "      <th>0</th>\n",
       "      <td>2022-01-31</td>\n",
       "      <td>265.42</td>\n",
       "      <td>Received</td>\n",
       "      <td>1</td>\n",
       "      <td>2022</td>\n",
       "    </tr>\n",
       "    <tr>\n",
       "      <th>1</th>\n",
       "      <td>2021-12-22</td>\n",
       "      <td>227.65</td>\n",
       "      <td>Received</td>\n",
       "      <td>12</td>\n",
       "      <td>2021</td>\n",
       "    </tr>\n",
       "    <tr>\n",
       "      <th>2</th>\n",
       "      <td>2021-11-29</td>\n",
       "      <td>71.37</td>\n",
       "      <td>Received</td>\n",
       "      <td>11</td>\n",
       "      <td>2021</td>\n",
       "    </tr>\n",
       "    <tr>\n",
       "      <th>3</th>\n",
       "      <td>2021-10-18</td>\n",
       "      <td>60.69</td>\n",
       "      <td>Received</td>\n",
       "      <td>10</td>\n",
       "      <td>2021</td>\n",
       "    </tr>\n",
       "    <tr>\n",
       "      <th>4</th>\n",
       "      <td>2021-09-21</td>\n",
       "      <td>44.32</td>\n",
       "      <td>Received</td>\n",
       "      <td>9</td>\n",
       "      <td>2021</td>\n",
       "    </tr>\n",
       "    <tr>\n",
       "      <th>...</th>\n",
       "      <td>...</td>\n",
       "      <td>...</td>\n",
       "      <td>...</td>\n",
       "      <td>...</td>\n",
       "      <td>...</td>\n",
       "    </tr>\n",
       "    <tr>\n",
       "      <th>71</th>\n",
       "      <td>2022-07-14</td>\n",
       "      <td>68.04</td>\n",
       "      <td>Received</td>\n",
       "      <td>7</td>\n",
       "      <td>2022</td>\n",
       "    </tr>\n",
       "    <tr>\n",
       "      <th>72</th>\n",
       "      <td>2022-08-09</td>\n",
       "      <td>86.08</td>\n",
       "      <td>Received</td>\n",
       "      <td>8</td>\n",
       "      <td>2022</td>\n",
       "    </tr>\n",
       "    <tr>\n",
       "      <th>73</th>\n",
       "      <td>2022-09-27</td>\n",
       "      <td>50.91</td>\n",
       "      <td>Received</td>\n",
       "      <td>9</td>\n",
       "      <td>2022</td>\n",
       "    </tr>\n",
       "    <tr>\n",
       "      <th>74</th>\n",
       "      <td>2022-10-28</td>\n",
       "      <td>61.56</td>\n",
       "      <td>Received</td>\n",
       "      <td>10</td>\n",
       "      <td>2022</td>\n",
       "    </tr>\n",
       "    <tr>\n",
       "      <th>75</th>\n",
       "      <td>2022-11-28</td>\n",
       "      <td>132.43</td>\n",
       "      <td>Scheduled</td>\n",
       "      <td>11</td>\n",
       "      <td>2022</td>\n",
       "    </tr>\n",
       "  </tbody>\n",
       "</table>\n",
       "<p>76 rows × 5 columns</p>\n",
       "</div>"
      ],
      "text/plain": [
       "   transactionDate  transactionAmount transactionStatus  transactionMonth  \\\n",
       "0       2022-01-31             265.42          Received                 1   \n",
       "1       2021-12-22             227.65          Received                12   \n",
       "2       2021-11-29              71.37          Received                11   \n",
       "3       2021-10-18              60.69          Received                10   \n",
       "4       2021-09-21              44.32          Received                 9   \n",
       "..             ...                ...               ...               ...   \n",
       "71      2022-07-14              68.04          Received                 7   \n",
       "72      2022-08-09              86.08          Received                 8   \n",
       "73      2022-09-27              50.91          Received                 9   \n",
       "74      2022-10-28              61.56          Received                10   \n",
       "75      2022-11-28             132.43         Scheduled                11   \n",
       "\n",
       "    transactionYear  \n",
       "0              2022  \n",
       "1              2021  \n",
       "2              2021  \n",
       "3              2021  \n",
       "4              2021  \n",
       "..              ...  \n",
       "71             2022  \n",
       "72             2022  \n",
       "73             2022  \n",
       "74             2022  \n",
       "75             2022  \n",
       "\n",
       "[76 rows x 5 columns]"
      ]
     },
     "execution_count": 22,
     "metadata": {},
     "output_type": "execute_result"
    }
   ],
   "source": [
    "df_gas"
   ]
  },
  {
   "cell_type": "code",
   "execution_count": 24,
   "metadata": {},
   "outputs": [
    {
     "data": {
      "image/png": "[encoded data removed]",
      "text/plain": [
       "<Figure size 640x480 with 1 Axes>"
      ]
     },
     "metadata": {},
     "output_type": "display_data"
    }
   ],
   "source": [
    "t_years = [2019, 2020, 2021, 2022]\n",
    "\n",
    "for m_year in t_years:\n",
    "    t_filt = (df_gas['transactionYear'] == m_year)\n",
    "    df_gas_filtered = df_gas[t_filt]\n",
    "    plt.plot(df_gas_filtered['transactionMonth'], df_gas_filtered['transactionAmount'])\n",
    "\n",
    "plt.show()"
   ]
  },
  {
   "cell_type": "code",
   "execution_count": 17,
   "metadata": {},
   "outputs": [],
   "source": [
    "df_gas['transactionMonth'] = df_gas['transactionDate'].dt.month\n",
    "df_gas['transactionYear'] = df_gas['transactionDate'].dt.year"
   ]
  },
  {
   "cell_type": "code",
   "execution_count": null,
   "metadata": {},
   "outputs": [],
   "source": []
  },
  {
   "cell_type": "code",
   "execution_count": null,
   "metadata": {},
   "outputs": [],
   "source": []
  }
 ],
 "metadata": {
  "kernelspec": {
   "display_name": "Python 3.10.4 64-bit",
   "language": "python",
   "name": "python3"
  },
  "language_info": {
   "codemirror_mode": {
    "name": "ipython",
    "version": 3
   },
   "file_extension": ".py",
   "mimetype": "text/x-python",
   "name": "python",
   "nbconvert_exporter": "python",
   "pygments_lexer": "ipython3",
   "version": "3.10.4"
  },
  "orig_nbformat": 4,
  "vscode": {
   "interpreter": {
    "hash": "3ad933181bd8a04b432d3370b9dc3b0662ad032c4dfaa4e4f1596c548f763858"
   }
  }
 },
 "nbformat": 4,
 "nbformat_minor": 2
}
